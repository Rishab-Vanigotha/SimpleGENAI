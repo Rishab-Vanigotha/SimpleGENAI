{
 "cells": [
  {
   "cell_type": "code",
   "execution_count": 25,
   "metadata": {},
   "outputs": [],
   "source": [
    "import os\n",
    "from dotenv import load_dotenv\n",
    "\n",
    "load_dotenv()\n",
    "\n",
    "#Langsmith tracking\n",
    "os.environ['LANGCHAIN_API_KEY'] = os.getenv('LANGSMITH_TOKEN')\n",
    "os.environ['LANGCHAIN_TRACING_V2'] = \"true\"\n",
    "os.environ['LANGCHAIN_PROJECT'] = os.getenv(\"LANGCHAIN_PROJECT\")"
   ]
  },
  {
   "cell_type": "code",
   "execution_count": 26,
   "metadata": {},
   "outputs": [],
   "source": [
    "from langchain_community.llms import Ollama\n",
    "from langchain_core.prompts import ChatPromptTemplate\n",
    "from langchain_community.embeddings import OllamaEmbeddings\n",
    "from langchain_core.output_parsers import StrOutputParser\n",
    "\n",
    "#Prompt Template\n",
    "\n",
    "prompt = ChatPromptTemplate.from_messages(\n",
    "    [\n",
    "        ('system',\"you are a helpful assistance. Please respond to the question asked\"),\n",
    "        ('user', \"Question: {question}\")\n",
    "         \n",
    "    ]\n",
    ")"
   ]
  },
  {
   "cell_type": "code",
   "execution_count": 27,
   "metadata": {},
   "outputs": [],
   "source": [
    "#Ollama gemma2 model\n",
    "llm = Ollama(model = \"gemma:2b\")\n",
    "llm = Ollama(model = \"gemma2:2b\")\n",
    "output_parser = StrOutputParser()\n",
    "chain = prompt|llm|output_parser"
   ]
  },
  {
   "cell_type": "code",
   "execution_count": 28,
   "metadata": {},
   "outputs": [
    {
     "data": {
      "text/plain": [
       "'Gen AI, short for **Generative Artificial Intelligence**, is a type of artificial intelligence that focuses on creating new content. \\n\\nThink of it like this: instead of just analyzing existing information, Gen AI learns patterns and structures from massive datasets and then uses that knowledge to generate original outputs.  Here are some key characteristics of Gen AI:\\n\\n* **Content Creation:** It can create various types of content, including text (like poems or scripts), images (photosrealistic or artistic), audio (music or speech), and even code (software).\\n* **Learning from Data:**  Gen AI models are trained on massive amounts of data to understand the relationships between different concepts and how information is organized. This allows them to create new content that is similar in style, tone, or topic to the training material. \\n* **Autonomous Generation:** It can often generate entirely original content without explicit instructions.\\n\\n**Examples of Gen AI:**\\n\\n* **ChatGPT:** Creates human-like text based on conversation prompts.\\n* **DALL-E 2:** Generates images from textual descriptions (imagine painting a house with green walls and orange roof).\\n* **Stable Diffusion:** Creates image art based on text prompts, often with unique artistic styles.\\n\\n\\n**Benefits of Gen AI:**\\n\\n* **Creative Exploration:**  Opens up new creative avenues and possibilities for content creation.\\n* **Time-Saving:** It can automate tasks, accelerating workflow and content generation.\\n* **Personalized Content:** Can tailor content to individual user preferences.\\n\\nOverall, Gen AI is a rapidly evolving field with the potential to transform how we create and interact with information. \\n'"
      ]
     },
     "execution_count": 28,
     "metadata": {},
     "output_type": "execute_result"
    }
   ],
   "source": [
    "input_text = \"What is Gen AI\"\n",
    "chain.invoke({\"question\":input_text})"
   ]
  },
  {
   "cell_type": "code",
   "execution_count": null,
   "metadata": {},
   "outputs": [],
   "source": []
  }
 ],
 "metadata": {
  "kernelspec": {
   "display_name": "genAI",
   "language": "python",
   "name": "python3"
  },
  "language_info": {
   "codemirror_mode": {
    "name": "ipython",
    "version": 3
   },
   "file_extension": ".py",
   "mimetype": "text/x-python",
   "name": "python",
   "nbconvert_exporter": "python",
   "pygments_lexer": "ipython3",
   "version": "3.10.0"
  }
 },
 "nbformat": 4,
 "nbformat_minor": 2
}
